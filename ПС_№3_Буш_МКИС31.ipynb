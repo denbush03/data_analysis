{
  "cells": [
    {
      "cell_type": "markdown",
      "metadata": {
        "id": "view-in-github",
        "colab_type": "text"
      },
      "source": [
        "<a href=\"https://colab.research.google.com/github/denbush03/data_analysis/blob/main/%D0%9F%D0%A1_%E2%84%963_%D0%91%D1%83%D1%88_%D0%9C%D0%9A%D0%98%D0%A131.ipynb\" target=\"_parent\"><img src=\"https://colab.research.google.com/assets/colab-badge.svg\" alt=\"Open In Colab\"/></a>"
      ]
    },
    {
      "cell_type": "markdown",
      "metadata": {
        "id": "cO7yc6c3DloL"
      },
      "source": [
        "#Homework 3"
      ]
    },
    {
      "cell_type": "markdown",
      "metadata": {
        "id": "aaLNY5NrDRhD"
      },
      "source": [
        "## Ссылки\n"
      ]
    },
    {
      "cell_type": "markdown",
      "metadata": {
        "id": "VeQj-tKxDftC"
      },
      "source": [
        "https://www.kaggle.com/c/stumbleupon"
      ]
    },
    {
      "cell_type": "markdown",
      "metadata": {
        "id": "m-7txdtFClQr"
      },
      "source": [
        "# Подключение библиотек\n"
      ]
    },
    {
      "cell_type": "code",
      "execution_count": null,
      "metadata": {
        "colab": {
          "base_uri": "https://localhost:8080/"
        },
        "id": "w7GLrEv62mdy",
        "outputId": "167d5166-8e73-48aa-deb2-458465bb026b"
      },
      "outputs": [
        {
          "name": "stdout",
          "output_type": "stream",
          "text": [
            "Looking in indexes: https://pypi.org/simple, https://us-python.pkg.dev/colab-wheels/public/simple/\n",
            "Collecting transformers\n",
            "  Downloading transformers-4.24.0-py3-none-any.whl (5.5 MB)\n",
            "\u001b[K     |████████████████████████████████| 5.5 MB 6.7 MB/s \n",
            "\u001b[?25hRequirement already satisfied: regex!=2019.12.17 in /usr/local/lib/python3.7/dist-packages (from transformers) (2022.6.2)\n",
            "Requirement already satisfied: packaging>=20.0 in /usr/local/lib/python3.7/dist-packages (from transformers) (21.3)\n",
            "Collecting tokenizers!=0.11.3,<0.14,>=0.11.1\n",
            "  Downloading tokenizers-0.13.2-cp37-cp37m-manylinux_2_17_x86_64.manylinux2014_x86_64.whl (7.6 MB)\n",
            "\u001b[K     |████████████████████████████████| 7.6 MB 30.8 MB/s \n",
            "\u001b[?25hRequirement already satisfied: filelock in /usr/local/lib/python3.7/dist-packages (from transformers) (3.8.0)\n",
            "Collecting huggingface-hub<1.0,>=0.10.0\n",
            "  Downloading huggingface_hub-0.10.1-py3-none-any.whl (163 kB)\n",
            "\u001b[K     |████████████████████████████████| 163 kB 37.8 MB/s \n",
            "\u001b[?25hRequirement already satisfied: importlib-metadata in /usr/local/lib/python3.7/dist-packages (from transformers) (4.13.0)\n",
            "Requirement already satisfied: pyyaml>=5.1 in /usr/local/lib/python3.7/dist-packages (from transformers) (6.0)\n",
            "Requirement already satisfied: tqdm>=4.27 in /usr/local/lib/python3.7/dist-packages (from transformers) (4.64.1)\n",
            "Requirement already satisfied: numpy>=1.17 in /usr/local/lib/python3.7/dist-packages (from transformers) (1.21.6)\n",
            "Requirement already satisfied: requests in /usr/local/lib/python3.7/dist-packages (from transformers) (2.23.0)\n",
            "Requirement already satisfied: typing-extensions>=3.7.4.3 in /usr/local/lib/python3.7/dist-packages (from huggingface-hub<1.0,>=0.10.0->transformers) (4.1.1)\n",
            "Requirement already satisfied: pyparsing!=3.0.5,>=2.0.2 in /usr/local/lib/python3.7/dist-packages (from packaging>=20.0->transformers) (3.0.9)\n",
            "Requirement already satisfied: zipp>=0.5 in /usr/local/lib/python3.7/dist-packages (from importlib-metadata->transformers) (3.10.0)\n",
            "Requirement already satisfied: urllib3!=1.25.0,!=1.25.1,<1.26,>=1.21.1 in /usr/local/lib/python3.7/dist-packages (from requests->transformers) (1.24.3)\n",
            "Requirement already satisfied: certifi>=2017.4.17 in /usr/local/lib/python3.7/dist-packages (from requests->transformers) (2022.9.24)\n",
            "Requirement already satisfied: idna<3,>=2.5 in /usr/local/lib/python3.7/dist-packages (from requests->transformers) (2.10)\n",
            "Requirement already satisfied: chardet<4,>=3.0.2 in /usr/local/lib/python3.7/dist-packages (from requests->transformers) (3.0.4)\n",
            "Installing collected packages: tokenizers, huggingface-hub, transformers\n",
            "Successfully installed huggingface-hub-0.10.1 tokenizers-0.13.2 transformers-4.24.0\n"
          ]
        }
      ],
      "source": [
        "!pip install transformers\n",
        "\n",
        "import pandas as pd \n",
        "import numpy as np \n",
        "import matplotlib.pyplot as plt \n",
        "import seaborn as sns \n",
        "%matplotlib inline \n",
        "import tensorflow as tf \n",
        "\n"
      ]
    },
    {
      "cell_type": "markdown",
      "metadata": {
        "id": "tJP4OHVA2mdz"
      },
      "source": [
        "# Загрузка данных"
      ]
    },
    {
      "cell_type": "code",
      "execution_count": null,
      "metadata": {
        "colab": {
          "base_uri": "https://localhost:8080/"
        },
        "id": "wMYgxBUG3Ly8",
        "outputId": "2cb36354-d7f6-4dc5-dc3e-d2144117903d"
      },
      "outputs": [
        {
          "name": "stdout",
          "output_type": "stream",
          "text": [
            "Mounted at /content/drive\n"
          ]
        }
      ],
      "source": [
        "from google.colab import drive\n",
        "drive.mount('/content/drive')"
      ]
    },
    {
      "cell_type": "code",
      "execution_count": null,
      "metadata": {
        "id": "GrC-WVhs2mdz"
      },
      "outputs": [],
      "source": [
        "df_train=pd.read_csv('/content/drive/MyDrive/Проектный семинар АДиМО/3/train.tsv',sep='\\t')\n",
        "\n",
        "df_test=pd.read_csv('/content/drive/MyDrive/Проектный семинар АДиМО/3/test.tsv',sep='\\t',usecols=['urlid','boilerplate'])\n"
      ]
    },
    {
      "cell_type": "markdown",
      "metadata": {
        "id": "Nd6s2q262mdz"
      },
      "source": [
        "# Исследование данных\n",
        "\n",
        "Набор данных содержит 27 столбцов, и конечная цель - предсказать, является ли статья вечнозеленой или не вечнозеленой. <br>"
      ]
    },
    {
      "cell_type": "code",
      "execution_count": null,
      "metadata": {
        "colab": {
          "base_uri": "https://localhost:8080/",
          "height": 612
        },
        "id": "ro9H1PIV2md0",
        "outputId": "cd2abd8e-b9be-4898-8d1f-4833be8762fa"
      },
      "outputs": [
        {
          "data": {
            "text/html": [
              "\n",
              "  <div id=\"df-8c58efad-f13e-406b-9532-ee9ce92d36b7\">\n",
              "    <div class=\"colab-df-container\">\n",
              "      <div>\n",
              "<style scoped>\n",
              "    .dataframe tbody tr th:only-of-type {\n",
              "        vertical-align: middle;\n",
              "    }\n",
              "\n",
              "    .dataframe tbody tr th {\n",
              "        vertical-align: top;\n",
              "    }\n",
              "\n",
              "    .dataframe thead th {\n",
              "        text-align: right;\n",
              "    }\n",
              "</style>\n",
              "<table border=\"1\" class=\"dataframe\">\n",
              "  <thead>\n",
              "    <tr style=\"text-align: right;\">\n",
              "      <th></th>\n",
              "      <th>url</th>\n",
              "      <th>urlid</th>\n",
              "      <th>boilerplate</th>\n",
              "      <th>alchemy_category</th>\n",
              "      <th>alchemy_category_score</th>\n",
              "      <th>avglinksize</th>\n",
              "      <th>commonlinkratio_1</th>\n",
              "      <th>commonlinkratio_2</th>\n",
              "      <th>commonlinkratio_3</th>\n",
              "      <th>commonlinkratio_4</th>\n",
              "      <th>...</th>\n",
              "      <th>is_news</th>\n",
              "      <th>lengthyLinkDomain</th>\n",
              "      <th>linkwordscore</th>\n",
              "      <th>news_front_page</th>\n",
              "      <th>non_markup_alphanum_characters</th>\n",
              "      <th>numberOfLinks</th>\n",
              "      <th>numwords_in_url</th>\n",
              "      <th>parametrizedLinkRatio</th>\n",
              "      <th>spelling_errors_ratio</th>\n",
              "      <th>label</th>\n",
              "    </tr>\n",
              "  </thead>\n",
              "  <tbody>\n",
              "    <tr>\n",
              "      <th>0</th>\n",
              "      <td>http://www.bloomberg.com/news/2010-12-23/ibm-p...</td>\n",
              "      <td>4042</td>\n",
              "      <td>{\"title\":\"IBM Sees Holographic Calls Air Breat...</td>\n",
              "      <td>business</td>\n",
              "      <td>0.789131</td>\n",
              "      <td>2.055556</td>\n",
              "      <td>0.676471</td>\n",
              "      <td>0.205882</td>\n",
              "      <td>0.047059</td>\n",
              "      <td>0.023529</td>\n",
              "      <td>...</td>\n",
              "      <td>1</td>\n",
              "      <td>1</td>\n",
              "      <td>24</td>\n",
              "      <td>0</td>\n",
              "      <td>5424</td>\n",
              "      <td>170</td>\n",
              "      <td>8</td>\n",
              "      <td>0.152941</td>\n",
              "      <td>0.079130</td>\n",
              "      <td>0</td>\n",
              "    </tr>\n",
              "    <tr>\n",
              "      <th>1</th>\n",
              "      <td>http://www.popsci.com/technology/article/2012-...</td>\n",
              "      <td>8471</td>\n",
              "      <td>{\"title\":\"The Fully Electronic Futuristic Star...</td>\n",
              "      <td>recreation</td>\n",
              "      <td>0.574147</td>\n",
              "      <td>3.677966</td>\n",
              "      <td>0.508021</td>\n",
              "      <td>0.288770</td>\n",
              "      <td>0.213904</td>\n",
              "      <td>0.144385</td>\n",
              "      <td>...</td>\n",
              "      <td>1</td>\n",
              "      <td>1</td>\n",
              "      <td>40</td>\n",
              "      <td>0</td>\n",
              "      <td>4973</td>\n",
              "      <td>187</td>\n",
              "      <td>9</td>\n",
              "      <td>0.181818</td>\n",
              "      <td>0.125448</td>\n",
              "      <td>1</td>\n",
              "    </tr>\n",
              "    <tr>\n",
              "      <th>2</th>\n",
              "      <td>http://www.menshealth.com/health/flu-fighting-...</td>\n",
              "      <td>1164</td>\n",
              "      <td>{\"title\":\"Fruits that Fight the Flu fruits tha...</td>\n",
              "      <td>health</td>\n",
              "      <td>0.996526</td>\n",
              "      <td>2.382883</td>\n",
              "      <td>0.562016</td>\n",
              "      <td>0.321705</td>\n",
              "      <td>0.120155</td>\n",
              "      <td>0.042636</td>\n",
              "      <td>...</td>\n",
              "      <td>1</td>\n",
              "      <td>1</td>\n",
              "      <td>55</td>\n",
              "      <td>0</td>\n",
              "      <td>2240</td>\n",
              "      <td>258</td>\n",
              "      <td>11</td>\n",
              "      <td>0.166667</td>\n",
              "      <td>0.057613</td>\n",
              "      <td>1</td>\n",
              "    </tr>\n",
              "    <tr>\n",
              "      <th>3</th>\n",
              "      <td>http://www.dumblittleman.com/2007/12/10-foolpr...</td>\n",
              "      <td>6684</td>\n",
              "      <td>{\"title\":\"10 Foolproof Tips for Better Sleep \"...</td>\n",
              "      <td>health</td>\n",
              "      <td>0.801248</td>\n",
              "      <td>1.543103</td>\n",
              "      <td>0.400000</td>\n",
              "      <td>0.100000</td>\n",
              "      <td>0.016667</td>\n",
              "      <td>0.000000</td>\n",
              "      <td>...</td>\n",
              "      <td>1</td>\n",
              "      <td>0</td>\n",
              "      <td>24</td>\n",
              "      <td>0</td>\n",
              "      <td>2737</td>\n",
              "      <td>120</td>\n",
              "      <td>5</td>\n",
              "      <td>0.041667</td>\n",
              "      <td>0.100858</td>\n",
              "      <td>1</td>\n",
              "    </tr>\n",
              "    <tr>\n",
              "      <th>4</th>\n",
              "      <td>http://bleacherreport.com/articles/1205138-the...</td>\n",
              "      <td>9006</td>\n",
              "      <td>{\"title\":\"The 50 Coolest Jerseys You Didn t Kn...</td>\n",
              "      <td>sports</td>\n",
              "      <td>0.719157</td>\n",
              "      <td>2.676471</td>\n",
              "      <td>0.500000</td>\n",
              "      <td>0.222222</td>\n",
              "      <td>0.123457</td>\n",
              "      <td>0.043210</td>\n",
              "      <td>...</td>\n",
              "      <td>1</td>\n",
              "      <td>1</td>\n",
              "      <td>14</td>\n",
              "      <td>0</td>\n",
              "      <td>12032</td>\n",
              "      <td>162</td>\n",
              "      <td>10</td>\n",
              "      <td>0.098765</td>\n",
              "      <td>0.082569</td>\n",
              "      <td>0</td>\n",
              "    </tr>\n",
              "  </tbody>\n",
              "</table>\n",
              "<p>5 rows × 27 columns</p>\n",
              "</div>\n",
              "      <button class=\"colab-df-convert\" onclick=\"convertToInteractive('df-8c58efad-f13e-406b-9532-ee9ce92d36b7')\"\n",
              "              title=\"Convert this dataframe to an interactive table.\"\n",
              "              style=\"display:none;\">\n",
              "        \n",
              "  <svg xmlns=\"http://www.w3.org/2000/svg\" height=\"24px\"viewBox=\"0 0 24 24\"\n",
              "       width=\"24px\">\n",
              "    <path d=\"M0 0h24v24H0V0z\" fill=\"none\"/>\n",
              "    <path d=\"M18.56 5.44l.94 2.06.94-2.06 2.06-.94-2.06-.94-.94-2.06-.94 2.06-2.06.94zm-11 1L8.5 8.5l.94-2.06 2.06-.94-2.06-.94L8.5 2.5l-.94 2.06-2.06.94zm10 10l.94 2.06.94-2.06 2.06-.94-2.06-.94-.94-2.06-.94 2.06-2.06.94z\"/><path d=\"M17.41 7.96l-1.37-1.37c-.4-.4-.92-.59-1.43-.59-.52 0-1.04.2-1.43.59L10.3 9.45l-7.72 7.72c-.78.78-.78 2.05 0 2.83L4 21.41c.39.39.9.59 1.41.59.51 0 1.02-.2 1.41-.59l7.78-7.78 2.81-2.81c.8-.78.8-2.07 0-2.86zM5.41 20L4 18.59l7.72-7.72 1.47 1.35L5.41 20z\"/>\n",
              "  </svg>\n",
              "      </button>\n",
              "      \n",
              "  <style>\n",
              "    .colab-df-container {\n",
              "      display:flex;\n",
              "      flex-wrap:wrap;\n",
              "      gap: 12px;\n",
              "    }\n",
              "\n",
              "    .colab-df-convert {\n",
              "      background-color: #E8F0FE;\n",
              "      border: none;\n",
              "      border-radius: 50%;\n",
              "      cursor: pointer;\n",
              "      display: none;\n",
              "      fill: #1967D2;\n",
              "      height: 32px;\n",
              "      padding: 0 0 0 0;\n",
              "      width: 32px;\n",
              "    }\n",
              "\n",
              "    .colab-df-convert:hover {\n",
              "      background-color: #E2EBFA;\n",
              "      box-shadow: 0px 1px 2px rgba(60, 64, 67, 0.3), 0px 1px 3px 1px rgba(60, 64, 67, 0.15);\n",
              "      fill: #174EA6;\n",
              "    }\n",
              "\n",
              "    [theme=dark] .colab-df-convert {\n",
              "      background-color: #3B4455;\n",
              "      fill: #D2E3FC;\n",
              "    }\n",
              "\n",
              "    [theme=dark] .colab-df-convert:hover {\n",
              "      background-color: #434B5C;\n",
              "      box-shadow: 0px 1px 3px 1px rgba(0, 0, 0, 0.15);\n",
              "      filter: drop-shadow(0px 1px 2px rgba(0, 0, 0, 0.3));\n",
              "      fill: #FFFFFF;\n",
              "    }\n",
              "  </style>\n",
              "\n",
              "      <script>\n",
              "        const buttonEl =\n",
              "          document.querySelector('#df-8c58efad-f13e-406b-9532-ee9ce92d36b7 button.colab-df-convert');\n",
              "        buttonEl.style.display =\n",
              "          google.colab.kernel.accessAllowed ? 'block' : 'none';\n",
              "\n",
              "        async function convertToInteractive(key) {\n",
              "          const element = document.querySelector('#df-8c58efad-f13e-406b-9532-ee9ce92d36b7');\n",
              "          const dataTable =\n",
              "            await google.colab.kernel.invokeFunction('convertToInteractive',\n",
              "                                                     [key], {});\n",
              "          if (!dataTable) return;\n",
              "\n",
              "          const docLinkHtml = 'Like what you see? Visit the ' +\n",
              "            '<a target=\"_blank\" href=https://colab.research.google.com/notebooks/data_table.ipynb>data table notebook</a>'\n",
              "            + ' to learn more about interactive tables.';\n",
              "          element.innerHTML = '';\n",
              "          dataTable['output_type'] = 'display_data';\n",
              "          await google.colab.output.renderOutput(dataTable, element);\n",
              "          const docLink = document.createElement('div');\n",
              "          docLink.innerHTML = docLinkHtml;\n",
              "          element.appendChild(docLink);\n",
              "        }\n",
              "      </script>\n",
              "    </div>\n",
              "  </div>\n",
              "  "
            ],
            "text/plain": [
              "                                                 url  urlid  \\\n",
              "0  http://www.bloomberg.com/news/2010-12-23/ibm-p...   4042   \n",
              "1  http://www.popsci.com/technology/article/2012-...   8471   \n",
              "2  http://www.menshealth.com/health/flu-fighting-...   1164   \n",
              "3  http://www.dumblittleman.com/2007/12/10-foolpr...   6684   \n",
              "4  http://bleacherreport.com/articles/1205138-the...   9006   \n",
              "\n",
              "                                         boilerplate alchemy_category  \\\n",
              "0  {\"title\":\"IBM Sees Holographic Calls Air Breat...         business   \n",
              "1  {\"title\":\"The Fully Electronic Futuristic Star...       recreation   \n",
              "2  {\"title\":\"Fruits that Fight the Flu fruits tha...           health   \n",
              "3  {\"title\":\"10 Foolproof Tips for Better Sleep \"...           health   \n",
              "4  {\"title\":\"The 50 Coolest Jerseys You Didn t Kn...           sports   \n",
              "\n",
              "  alchemy_category_score  avglinksize  commonlinkratio_1  commonlinkratio_2  \\\n",
              "0               0.789131     2.055556           0.676471           0.205882   \n",
              "1               0.574147     3.677966           0.508021           0.288770   \n",
              "2               0.996526     2.382883           0.562016           0.321705   \n",
              "3               0.801248     1.543103           0.400000           0.100000   \n",
              "4               0.719157     2.676471           0.500000           0.222222   \n",
              "\n",
              "   commonlinkratio_3  commonlinkratio_4  ...  is_news  lengthyLinkDomain  \\\n",
              "0           0.047059           0.023529  ...        1                  1   \n",
              "1           0.213904           0.144385  ...        1                  1   \n",
              "2           0.120155           0.042636  ...        1                  1   \n",
              "3           0.016667           0.000000  ...        1                  0   \n",
              "4           0.123457           0.043210  ...        1                  1   \n",
              "\n",
              "   linkwordscore  news_front_page  non_markup_alphanum_characters  \\\n",
              "0             24                0                            5424   \n",
              "1             40                0                            4973   \n",
              "2             55                0                            2240   \n",
              "3             24                0                            2737   \n",
              "4             14                0                           12032   \n",
              "\n",
              "   numberOfLinks  numwords_in_url parametrizedLinkRatio  \\\n",
              "0            170                8              0.152941   \n",
              "1            187                9              0.181818   \n",
              "2            258               11              0.166667   \n",
              "3            120                5              0.041667   \n",
              "4            162               10              0.098765   \n",
              "\n",
              "   spelling_errors_ratio  label  \n",
              "0               0.079130      0  \n",
              "1               0.125448      1  \n",
              "2               0.057613      1  \n",
              "3               0.100858      1  \n",
              "4               0.082569      0  \n",
              "\n",
              "[5 rows x 27 columns]"
            ]
          },
          "execution_count": 6,
          "metadata": {},
          "output_type": "execute_result"
        }
      ],
      "source": [
        "df_train.head()\n"
      ]
    },
    {
      "cell_type": "code",
      "execution_count": null,
      "metadata": {
        "colab": {
          "base_uri": "https://localhost:8080/"
        },
        "id": "1dLAmLtM2md0",
        "outputId": "7c459459-db6d-440a-906c-90c6329fa530"
      },
      "outputs": [
        {
          "data": {
            "text/plain": [
              "Index(['url', 'urlid', 'boilerplate', 'alchemy_category',\n",
              "       'alchemy_category_score', 'avglinksize', 'commonlinkratio_1',\n",
              "       'commonlinkratio_2', 'commonlinkratio_3', 'commonlinkratio_4',\n",
              "       'compression_ratio', 'embed_ratio', 'framebased', 'frameTagRatio',\n",
              "       'hasDomainLink', 'html_ratio', 'image_ratio', 'is_news',\n",
              "       'lengthyLinkDomain', 'linkwordscore', 'news_front_page',\n",
              "       'non_markup_alphanum_characters', 'numberOfLinks', 'numwords_in_url',\n",
              "       'parametrizedLinkRatio', 'spelling_errors_ratio', 'label'],\n",
              "      dtype='object')"
            ]
          },
          "execution_count": 7,
          "metadata": {},
          "output_type": "execute_result"
        }
      ],
      "source": [
        "df_train.columns"
      ]
    },
    {
      "cell_type": "code",
      "execution_count": null,
      "metadata": {
        "colab": {
          "base_uri": "https://localhost:8080/"
        },
        "id": "xlfbKl_q2md1",
        "outputId": "76353788-1166-4da0-9502-204629dac08e"
      },
      "outputs": [
        {
          "data": {
            "text/plain": [
              "?                     2342\n",
              "recreation            1229\n",
              "arts_entertainment     941\n",
              "business               880\n",
              "health                 506\n",
              "sports                 380\n",
              "culture_politics       343\n",
              "computer_internet      296\n",
              "science_technology     289\n",
              "gaming                  76\n",
              "religion                72\n",
              "law_crime               31\n",
              "unknown                  6\n",
              "weather                  4\n",
              "Name: alchemy_category, dtype: int64"
            ]
          },
          "execution_count": 8,
          "metadata": {},
          "output_type": "execute_result"
        }
      ],
      "source": [
        "df_train['alchemy_category'].value_counts()"
      ]
    },
    {
      "cell_type": "code",
      "execution_count": null,
      "metadata": {
        "colab": {
          "base_uri": "https://localhost:8080/",
          "height": 677
        },
        "id": "eFsCaTkm2md1",
        "outputId": "eabc5377-29ec-46ad-f00d-dad7f424eecc"
      },
      "outputs": [
        {
          "data": {
            "image/png": "[encoded data removed]",
            "text/plain": [
              "<Figure size 1080x720 with 1 Axes>"
            ]
          },
          "metadata": {},
          "output_type": "display_data"
        }
      ],
      "source": [
        "plt.figure(figsize=(15,10))\n",
        "sns.countplot(x=df_train['alchemy_category'],hue=df_train['label']);\n",
        "plt.xlabel('Category');\n",
        "plt.xticks(rotation=90);"
      ]
    },
    {
      "cell_type": "markdown",
      "metadata": {
        "id": "mM-4vbiX2md1"
      },
      "source": [
        "Категория \"Алхимия\" действительно играет определенную роль в определении label для article \n",
        "\n",
        "Мы видим, что бизнес, отдых и здоровье, скорее всего, будут вечнозелеными <br>\n",
        "\n",
        "Где как спорт, компьютерный интернет, искусство и развлечения больше похожи на то, чтобы быть не вечнозелеными. <br>"
      ]
    },
    {
      "cell_type": "code",
      "execution_count": null,
      "metadata": {
        "colab": {
          "base_uri": "https://localhost:8080/",
          "height": 296
        },
        "id": "_4IT0tt_2md2",
        "outputId": "503701fc-9ed8-4374-f522-1de891952d49"
      },
      "outputs": [
        {
          "data": {
            "text/plain": [
              "<matplotlib.axes._subplots.AxesSubplot at 0x7f4cac34d8d0>"
            ]
          },
          "execution_count": 10,
          "metadata": {},
          "output_type": "execute_result"
        },
        {
          "data": {
            "image/png": "[encoded data removed]",
            "text/plain": [
              "<Figure size 432x288 with 1 Axes>"
            ]
          },
          "metadata": {},
          "output_type": "display_data"
        }
      ],
      "source": [
        "sns.countplot(x=df_train['label'])\n",
        "# Это сбалансированный набор данных"
      ]
    },
    {
      "cell_type": "markdown",
      "metadata": {
        "id": "Zy_P0NCi2md2"
      },
      "source": [
        "## Очистка шаблонного текста\n",
        "\n",
        "Удалим заголовок и слово url из каждого описания. \n",
        "Мы также будем использовать слова в нижнем регистре, так как планируем использовать версию Transformer model без кавычек"
      ]
    },
    {
      "cell_type": "code",
      "execution_count": null,
      "metadata": {
        "id": "buuutzMO2md2"
      },
      "outputs": [],
      "source": [
        "df_train['boilerplate'].replace(to_replace=r'\"title\":', value=\"\",inplace=True,regex=True)\n",
        "df_train['boilerplate'].replace(to_replace=r'\"url\":',value=\"\",inplace=True,regex=True)\n",
        "\n",
        "df_train['boilerplate'].replace(to_replace=r'{|}',value=\"\",inplace=True,regex=True)\n",
        "df_train['boilerplate']=df_train['boilerplate'].str.lower()\n",
        "\n",
        "\n",
        "#Очистка тестового фрейма данных \n",
        "\n",
        "df_test['boilerplate'].replace(to_replace=r'\"title\":', value=\"\",inplace=True,regex=True)\n",
        "df_test['boilerplate'].replace(to_replace=r'\"url\":',value=\"\",inplace=True,regex=True)\n",
        "\n",
        "df_test['boilerplate'].replace(to_replace=r'{|}',value=\"\",inplace=True,regex=True)\n",
        "df_test['boilerplate']=df_test['boilerplate'].str.lower()"
      ]
    },
    {
      "cell_type": "markdown",
      "metadata": {
        "id": "RJMlnKjs2md2"
      },
      "source": [
        "# Загрузка модели доверенного лица для точности постороений"
      ]
    },
    {
      "cell_type": "code",
      "execution_count": null,
      "metadata": {
        "colab": {
          "base_uri": "https://localhost:8080/",
          "height": 284,
          "referenced_widgets": [
            "2a9815c56442465aa7eabce8aaf8542e",
            "5ae373541898414bbe2df5a3e1094dc3",
            "75bb465d8e05458480f7fc03b7026d57",
            "5d852c7868ce4332a7b8c9df66b4b034",
            "ef1fa111bc0d4ea5addeddd64e754bd9",
            "700a48c87f884e05a1f83403827daa5a",
            "c447809242b24c7899ffb785d83a1779",
            "d73dd8d7abda4f3bb12cbe94b6ba4b01",
            "3ca9f05c62e448f0aa44447d540fa33a",
            "7b288da422024067bc0794d16748e82f",
            "b5dfe221072c4c6cb0fcfbcbef1dda3d",
            "22319c48379441a9a0c371eb96522515",
            "7eaa955cf94a4f69ade0e0b491a7a6fa",
            "1d12c61558184ebea74c7297e692c6ef",
            "ee4e40fd7d424d28a94f2a5cf3af5965",
            "65966e8192da490e9629725501c00bcc",
            "d9404f89714941618ccbd241457f843f",
            "83a850cc06834a9d882d3b9073800f47",
            "2f52d8dcc42648d5b721cf3571f6f1b1",
            "a2e56a2f16be4764a7669dad68000cc3",
            "7bf42ad974f344f8943e04b94b9a54d4",
            "ffb5a0071ed649c3a8cc762905c6343d",
            "938784975aab47798c1d68a3d0fa8dfb",
            "94b493068d5d47b19f7d7cd680787446",
            "a9f1cf3d6ad040ca8e86bdfce90bca81",
            "aa990b372397497885fa86db859ea69c",
            "8875cc6b2f62406181b9a55f79f8d8ff",
            "b13d0d08cf6e47629535aa5afdc56804",
            "8ac0af2932d54f92af129e18f7846623",
            "e0f16e2d0cfc4ab5b91412f91e64261e",
            "5204e1d878724041a59ad4eaa94b0e3f",
            "287b8c65fc974e3c8e96ccde475429cd",
            "41af38338be04b1dbe5465a22fed77e1",
            "5ebf85f41d1742259357b353a3ebd530",
            "13a32cf84ad74e7ab779fa9b2b956265",
            "e7e1aa6759664facb25efd73d94aac5d",
            "b91a1b44bff74c5a81cf4bcc11eca0e4",
            "06c95543f37743129a77d703ebaa15f4",
            "fc5acecd06bd4d768669618df07a9abc",
            "30fff4cf8c6442e9a4d1d947863ffcd2",
            "9e6fd12373ca4cb9924974fdb72ba9fd",
            "a9286a3235ee460abc67ef726cb0cb06",
            "4d3711569151440b9da0236210e02735",
            "c06765f864db4a70b6fe67403f9753ab",
            "8a012743cbc24a46a29431af97da4ac8",
            "fc95408dfb294cc6b6c19f75d8fbc38e",
            "e098ca8d862f4338a88d2eaab4a2d719",
            "a8353ffd0f7c423caaa0647311524d41",
            "1873d3ce87224492b5c30c60f0f26ff4",
            "4ac5effbf4e14b2f80f6a9c1d597e557",
            "569f3acff53e4b1a8aa3e0bdf861d55e",
            "11c43aab4f354e88b4376cb0223d4465",
            "2b9e25091dd7494a9ccaa31425b4ba88",
            "618641b126b54f8f8d04080eafc1fc08",
            "5577254ac0954cdd91b9b02764510744"
          ]
        },
        "id": "HIq0xnPO2md3",
        "outputId": "0b54eee1-2898-43c3-9efb-d7c21fd930c2"
      },
      "outputs": [
        {
          "data": {
            "application/vnd.jupyter.widget-view+json": {
              "model_id": "2a9815c56442465aa7eabce8aaf8542e",
              "version_major": 2,
              "version_minor": 0
            },
            "text/plain": [
              "Downloading:   0%|          | 0.00/28.0 [00:00<?, ?B/s]"
            ]
          },
          "metadata": {},
          "output_type": "display_data"
        },
        {
          "data": {
            "application/vnd.jupyter.widget-view+json": {
              "model_id": "22319c48379441a9a0c371eb96522515",
              "version_major": 2,
              "version_minor": 0
            },
            "text/plain": [
              "Downloading:   0%|          | 0.00/570 [00:00<?, ?B/s]"
            ]
          },
          "metadata": {},
          "output_type": "display_data"
        },
        {
          "data": {
            "application/vnd.jupyter.widget-view+json": {
              "model_id": "938784975aab47798c1d68a3d0fa8dfb",
              "version_major": 2,
              "version_minor": 0
            },
            "text/plain": [
              "Downloading:   0%|          | 0.00/232k [00:00<?, ?B/s]"
            ]
          },
          "metadata": {},
          "output_type": "display_data"
        },
        {
          "data": {
            "application/vnd.jupyter.widget-view+json": {
              "model_id": "5ebf85f41d1742259357b353a3ebd530",
              "version_major": 2,
              "version_minor": 0
            },
            "text/plain": [
              "Downloading:   0%|          | 0.00/466k [00:00<?, ?B/s]"
            ]
          },
          "metadata": {},
          "output_type": "display_data"
        },
        {
          "data": {
            "application/vnd.jupyter.widget-view+json": {
              "model_id": "8a012743cbc24a46a29431af97da4ac8",
              "version_major": 2,
              "version_minor": 0
            },
            "text/plain": [
              "Downloading:   0%|          | 0.00/536M [00:00<?, ?B/s]"
            ]
          },
          "metadata": {},
          "output_type": "display_data"
        },
        {
          "name": "stderr",
          "output_type": "stream",
          "text": [
            "Some layers from the model checkpoint at bert-base-uncased were not used when initializing TFBertModel: ['mlm___cls', 'nsp___cls']\n",
            "- This IS expected if you are initializing TFBertModel from the checkpoint of a model trained on another task or with another architecture (e.g. initializing a BertForSequenceClassification model from a BertForPreTraining model).\n",
            "- This IS NOT expected if you are initializing TFBertModel from the checkpoint of a model that you expect to be exactly identical (initializing a BertForSequenceClassification model from a BertForSequenceClassification model).\n",
            "All the layers of TFBertModel were initialized from the model checkpoint at bert-base-uncased.\n",
            "If your task is similar to the task the model of the checkpoint was trained on, you can already use TFBertModel for predictions without further training.\n"
          ]
        }
      ],
      "source": [
        "from transformers import AutoTokenizer, TFAutoModel\n",
        "\n",
        "\n",
        "#Загрузка токенизатора и модели Берта для точной настройки\n",
        "\n",
        "tokenizer = AutoTokenizer.from_pretrained('bert-base-uncased')\n",
        "bert=TFAutoModel.from_pretrained('bert-base-uncased')"
      ]
    },
    {
      "cell_type": "code",
      "execution_count": null,
      "metadata": {
        "id": "RtU0XjR22md3"
      },
      "outputs": [],
      "source": [
        "#ДОБАВЬТЕ все переменные для модели трансформатора\n",
        "\n",
        "SEQ_length=512\n",
        "\n",
        "#Создадим матрицы X и Y из набора train Df\n",
        "\n",
        "Xids=np.zeros((df_train.shape[0],SEQ_length))\n",
        "Xmask=np.zeros((df_train.shape[0],SEQ_length))\n",
        "y=np.zeros((df_train.shape[0],1))\n",
        "\n",
        "#Подготовка тестового фрейма данных\n",
        "\n",
        "Xids_test=np.zeros((df_test.shape[0],SEQ_length))\n",
        "Xmask_test=np.zeros((df_test.shape[0],SEQ_length))\n"
      ]
    },
    {
      "cell_type": "code",
      "execution_count": null,
      "metadata": {
        "id": "K8Jqhnue2md3"
      },
      "outputs": [],
      "source": [
        "for i,sequence in enumerate(df_train['boilerplate']):\n",
        "    tokens=tokenizer.encode_plus(sequence,max_length=SEQ_length,padding='max_length',add_special_tokens=True,\n",
        "                           truncation=True,return_token_type_ids=False,return_attention_mask=True,\n",
        "                           return_tensors='tf')\n",
        "    \n",
        "    Xids[i,:],Xmask[i,:],y[i,0]=tokens['input_ids'],tokens['attention_mask'],df_train.loc[i,'label']\n",
        "    \n",
        "\n",
        "for i,sequence in enumerate(df_test['boilerplate']):\n",
        "    tokens=tokenizer.encode_plus(sequence,max_length=SEQ_length,padding='max_length',add_special_tokens=True,\n",
        "                           truncation=True,return_token_type_ids=False,return_attention_mask=True,\n",
        "                           return_tensors='tf')\n",
        "    \n",
        "    Xids_test[i,:],Xmask_test[i,:]=tokens['input_ids'],tokens['attention_mask']"
      ]
    },
    {
      "cell_type": "code",
      "execution_count": null,
      "metadata": {
        "colab": {
          "base_uri": "https://localhost:8080/"
        },
        "id": "R0I3Y7zE2md3",
        "outputId": "043209ea-e76c-46cc-d49e-56d1f6efe5e3"
      },
      "outputs": [
        {
          "data": {
            "text/plain": [
              "[PhysicalDevice(name='/physical_device:CPU:0', device_type='CPU')]"
            ]
          },
          "execution_count": 15,
          "metadata": {},
          "output_type": "execute_result"
        }
      ],
      "source": [
        "#Проверка, доступен ли графический процессор\n",
        "tf.config.get_visible_devices()"
      ]
    },
    {
      "cell_type": "code",
      "execution_count": null,
      "metadata": {
        "id": "osPGKDjz2md3"
      },
      "outputs": [],
      "source": [
        "dataset=tf.data.Dataset.from_tensor_slices((Xids,Xmask,y))\n",
        "\n",
        "def map_func(input_ids,mask,labels):\n",
        "    return {'input_ids':input_ids,'attention_mask':mask},labels\n",
        "\n",
        "dataset=dataset.map(map_func)\n",
        "dataset=dataset.shuffle(100000).batch(32).prefetch(1000)\n",
        "\n",
        "DS_size=len(list(dataset))\n",
        "\n",
        "train=dataset.take(round(DS_size*0.85))\n",
        "val=dataset.skip(round(DS_size*0.85))"
      ]
    },
    {
      "cell_type": "code",
      "execution_count": null,
      "metadata": {
        "id": "e0FrQQ6U2md4"
      },
      "outputs": [],
      "source": [
        "#Подготовка тестового набора данных\n",
        "\n",
        "dataset_test=tf.data.Dataset.from_tensor_slices((Xids_test,Xmask_test))\n",
        "\n",
        "def map_func(input_ids,mask):\n",
        "    return {'input_ids':input_ids,'attention_mask':mask}\n",
        "\n",
        "dataset_test=dataset_test.map(map_func)\n",
        "dataset_test=dataset_test.batch(32).prefetch(1000)"
      ]
    },
    {
      "cell_type": "markdown",
      "metadata": {
        "id": "mjyxGCxX2md4"
      },
      "source": [
        "# Построение модели\n"
      ]
    },
    {
      "cell_type": "code",
      "execution_count": null,
      "metadata": {
        "id": "MNMUyHRL2md4"
      },
      "outputs": [],
      "source": [
        "input_ids=tf.keras.layers.Input(shape=(SEQ_length,),name='input_ids',dtype='int32')\n",
        "input_mask=tf.keras.layers.Input(shape=(SEQ_length,),name='attention_mask',dtype='int32')\n",
        "\n",
        "embedding=bert(input_ids,attention_mask=input_mask)[0]\n",
        "x=tf.keras.layers.GlobalAveragePooling1D()(embedding)\n",
        "x=tf.keras.layers.BatchNormalization()(x)\n",
        "x=tf.keras.layers.Dense(128,activation='relu')(x)\n",
        "x=tf.keras.layers.Dropout(0.3)(x)\n",
        "x=tf.keras.layers.Dense(64,activation='relu')(x)\n",
        "output=tf.keras.layers.Dense(1,activation='sigmoid')(x)\n",
        "\n",
        "\n",
        "model=tf.keras.Model(inputs=[input_ids,input_mask],outputs=output)\n",
        "\n",
        "model.layers[2].trainable=False"
      ]
    },
    {
      "cell_type": "code",
      "execution_count": null,
      "metadata": {
        "colab": {
          "base_uri": "https://localhost:8080/"
        },
        "id": "kJwqSGcB2md4",
        "outputId": "b8932d15-9168-4e1a-ab3a-f1db88775442"
      },
      "outputs": [
        {
          "name": "stdout",
          "output_type": "stream",
          "text": [
            "Model: \"model\"\n",
            "__________________________________________________________________________________________________\n",
            " Layer (type)                   Output Shape         Param #     Connected to                     \n",
            "==================================================================================================\n",
            " input_ids (InputLayer)         [(None, 512)]        0           []                               \n",
            "                                                                                                  \n",
            " attention_mask (InputLayer)    [(None, 512)]        0           []                               \n",
            "                                                                                                  \n",
            " tf_bert_model (TFBertModel)    TFBaseModelOutputWi  109482240   ['input_ids[0][0]',              \n",
            "                                thPoolingAndCrossAt               'attention_mask[0][0]']         \n",
            "                                tentions(last_hidde                                               \n",
            "                                n_state=(None, 512,                                               \n",
            "                                 768),                                                            \n",
            "                                 pooler_output=(Non                                               \n",
            "                                e, 768),                                                          \n",
            "                                 past_key_values=No                                               \n",
            "                                ne, hidden_states=N                                               \n",
            "                                one, attentions=Non                                               \n",
            "                                e, cross_attentions                                               \n",
            "                                =None)                                                            \n",
            "                                                                                                  \n",
            " global_average_pooling1d (Glob  (None, 768)         0           ['tf_bert_model[0][0]']          \n",
            " alAveragePooling1D)                                                                              \n",
            "                                                                                                  \n",
            " batch_normalization (BatchNorm  (None, 768)         3072        ['global_average_pooling1d[0][0]'\n",
            " alization)                                                      ]                                \n",
            "                                                                                                  \n",
            " dense (Dense)                  (None, 128)          98432       ['batch_normalization[0][0]']    \n",
            "                                                                                                  \n",
            " dropout_37 (Dropout)           (None, 128)          0           ['dense[0][0]']                  \n",
            "                                                                                                  \n",
            " dense_1 (Dense)                (None, 64)           8256        ['dropout_37[0][0]']             \n",
            "                                                                                                  \n",
            " dense_2 (Dense)                (None, 1)            65          ['dense_1[0][0]']                \n",
            "                                                                                                  \n",
            "==================================================================================================\n",
            "Total params: 109,592,065\n",
            "Trainable params: 108,289\n",
            "Non-trainable params: 109,483,776\n",
            "__________________________________________________________________________________________________\n"
          ]
        }
      ],
      "source": [
        "model.summary()"
      ]
    },
    {
      "cell_type": "code",
      "execution_count": null,
      "metadata": {
        "id": "6YQ6f09u2md4"
      },
      "outputs": [],
      "source": [
        "model.compile(loss=tf.keras.losses.BinaryCrossentropy(),\n",
        "              optimizer='adam',metrics=[tf.keras.metrics.AUC()])"
      ]
    },
    {
      "cell_type": "code",
      "execution_count": null,
      "metadata": {
        "colab": {
          "background_save": true,
          "base_uri": "https://localhost:8080/"
        },
        "id": "OhcJfmcg2md5",
        "outputId": "341be489-7f57-4fee-b72b-fe39539a2f09"
      },
      "outputs": [
        {
          "name": "stdout",
          "output_type": "stream",
          "text": [
            "Epoch 1/20\n",
            " 97/197 [=============>................] - ETA: 2:02:34 - loss: 0.4933 - auc: 0.8498"
          ]
        }
      ],
      "source": [
        "history=model.fit(train,validation_data=val,epochs=20)# 20 эпох"
      ]
    },
    {
      "cell_type": "markdown",
      "metadata": {
        "id": "5Y_d7mVo2md5"
      },
      "source": [
        "# Prediction "
      ]
    },
    {
      "cell_type": "code",
      "execution_count": null,
      "metadata": {
        "id": "jNqJbS322md5"
      },
      "outputs": [],
      "source": [
        "predictions=model.predict(dataset_test)"
      ]
    },
    {
      "cell_type": "code",
      "execution_count": null,
      "metadata": {
        "id": "Zg0-WcjR2md5"
      },
      "outputs": [],
      "source": [
        "df_test['label']=predictions\n",
        "\n",
        "df_test.to_csv('Bush_submission.csv',columns=['urlid','label'],index=False)"
      ]
    },
    {
      "cell_type": "code",
      "source": [],
      "metadata": {
        "id": "MUbKGl7Io7kn"
      },
      "execution_count": null,
      "outputs": []
    },
    {
      "cell_type": "markdown",
      "source": [
        "![image.png](data:image/png;base64,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)"
      ],
      "metadata": {
        "id": "tU7nVzRfo8Mo"
      }
    }
  ],
  "metadata": {
    "colab": {
      "provenance": [],
      "include_colab_link": true
    },
    "kernelspec": {
      "display_name": "Python 3",
      "language": "python",
      "name": "python3"
    },
    "language_info": {
      "codemirror_mode": {
        "name": "ipython",
        "version": 3
      },
      "file_extension": ".py",
      "mimetype": "text/x-python",
      "name": "python",
      "nbconvert_exporter": "python",
      "pygments_lexer": "ipython3",
      "version": "3.7.9"
    },
    "papermill": {
      "default_parameters": {},
      "duration": 3667.543301,
      "end_time": "2021-02-01T22:02:14.134002",
      "environment_variables": {},
      "exception": null,
      "input_path": "__notebook__.ipynb",
      "output_path": "__notebook__.ipynb",
      "parameters": {},
      "start_time": "2021-02-01T21:01:06.590701",
      "version": "2.2.2"
    },
    "widgets": {
      "application/vnd.jupyter.widget-state+json": {
        "06c95543f37743129a77d703ebaa15f4": {
          "model_module": "@jupyter-widgets/base",
          "model_module_version": "1.2.0",
          "model_name": "LayoutModel",
          "state": {
            "_model_module": "@jupyter-widgets/base",
            "_model_module_version": "1.2.0",
            "_model_name": "LayoutModel",
            "_view_count": null,
            "_view_module": "@jupyter-widgets/base",
            "_view_module_version": "1.2.0",
            "_view_name": "LayoutView",
            "align_content": null,
            "align_items": null,
            "align_self": null,
            "border": null,
            "bottom": null,
            "display": null,
            "flex": null,
            "flex_flow": null,
            "grid_area": null,
            "grid_auto_columns": null,
            "grid_auto_flow": null,
            "grid_auto_rows": null,
            "grid_column": null,
            "grid_gap": null,
            "grid_row": null,
            "grid_template_areas": null,
            "grid_template_columns": null,
            "grid_template_rows": null,
            "height": null,
            "justify_content": null,
            "justify_items": null,
            "left": null,
            "margin": null,
            "max_height": null,
            "max_width": null,
            "min_height": null,
            "min_width": null,
            "object_fit": null,
            "object_position": null,
            "order": null,
            "overflow": null,
            "overflow_x": null,
            "overflow_y": null,
            "padding": null,
            "right": null,
            "top": null,
            "visibility": null,
            "width": null
          }
        },
        "11c43aab4f354e88b4376cb0223d4465": {
          "model_module": "@jupyter-widgets/base",
          "model_module_version": "1.2.0",
          "model_name": "LayoutModel",
          "state": {
            "_model_module": "@jupyter-widgets/base",
            "_model_module_version": "1.2.0",
            "_model_name": "LayoutModel",
            "_view_count": null,
            "_view_module": "@jupyter-widgets/base",
            "_view_module_version": "1.2.0",
            "_view_name": "LayoutView",
            "align_content": null,
            "align_items": null,
            "align_self": null,
            "border": null,
            "bottom": null,
            "display": null,
            "flex": null,
            "flex_flow": null,
            "grid_area": null,
            "grid_auto_columns": null,
            "grid_auto_flow": null,
            "grid_auto_rows": null,
            "grid_column": null,
            "grid_gap": null,
            "grid_row": null,
            "grid_template_areas": null,
            "grid_template_columns": null,
            "grid_template_rows": null,
            "height": null,
            "justify_content": null,
            "justify_items": null,
            "left": null,
            "margin": null,
            "max_height": null,
            "max_width": null,
            "min_height": null,
            "min_width": null,
            "object_fit": null,
            "object_position": null,
            "order": null,
            "overflow": null,
            "overflow_x": null,
            "overflow_y": null,
            "padding": null,
            "right": null,
            "top": null,
            "visibility": null,
            "width": null
          }
        },
        "13a32cf84ad74e7ab779fa9b2b956265": {
          "model_module": "@jupyter-widgets/controls",
          "model_module_version": "1.5.0",
          "model_name": "HTMLModel",
          "state": {
            "_dom_classes": [],
            "_model_module": "@jupyter-widgets/controls",
            "_model_module_version": "1.5.0",
            "_model_name": "HTMLModel",
            "_view_count": null,
            "_view_module": "@jupyter-widgets/controls",
            "_view_module_version": "1.5.0",
            "_view_name": "HTMLView",
            "description": "",
            "description_tooltip": null,
            "layout": "IPY_MODEL_fc5acecd06bd4d768669618df07a9abc",
            "placeholder": "​",
            "style": "IPY_MODEL_30fff4cf8c6442e9a4d1d947863ffcd2",
            "value": "Downloading: 100%"
          }
        },
        "1873d3ce87224492b5c30c60f0f26ff4": {
          "model_module": "@jupyter-widgets/base",
          "model_module_version": "1.2.0",
          "model_name": "LayoutModel",
          "state": {
            "_model_module": "@jupyter-widgets/base",
            "_model_module_version": "1.2.0",
            "_model_name": "LayoutModel",
            "_view_count": null,
            "_view_module": "@jupyter-widgets/base",
            "_view_module_version": "1.2.0",
            "_view_name": "LayoutView",
            "align_content": null,
            "align_items": null,
            "align_self": null,
            "border": null,
            "bottom": null,
            "display": null,
            "flex": null,
            "flex_flow": null,
            "grid_area": null,
            "grid_auto_columns": null,
            "grid_auto_flow": null,
            "grid_auto_rows": null,
            "grid_column": null,
            "grid_gap": null,
            "grid_row": null,
            "grid_template_areas": null,
            "grid_template_columns": null,
            "grid_template_rows": null,
            "height": null,
            "justify_content": null,
            "justify_items": null,
            "left": null,
            "margin": null,
            "max_height": null,
            "max_width": null,
            "min_height": null,
            "min_width": null,
            "object_fit": null,
            "object_position": null,
            "order": null,
            "overflow": null,
            "overflow_x": null,
            "overflow_y": null,
            "padding": null,
            "right": null,
            "top": null,
            "visibility": null,
            "width": null
          }
        },
        "1d12c61558184ebea74c7297e692c6ef": {
          "model_module": "@jupyter-widgets/controls",
          "model_module_version": "1.5.0",
          "model_name": "FloatProgressModel",
          "state": {
            "_dom_classes": [],
            "_model_module": "@jupyter-widgets/controls",
            "_model_module_version": "1.5.0",
            "_model_name": "FloatProgressModel",
            "_view_count": null,
            "_view_module": "@jupyter-widgets/controls",
            "_view_module_version": "1.5.0",
            "_view_name": "ProgressView",
            "bar_style": "success",
            "description": "",
            "description_tooltip": null,
            "layout": "IPY_MODEL_2f52d8dcc42648d5b721cf3571f6f1b1",
            "max": 570,
            "min": 0,
            "orientation": "horizontal",
            "style": "IPY_MODEL_a2e56a2f16be4764a7669dad68000cc3",
            "value": 570
          }
        },
        "22319c48379441a9a0c371eb96522515": {
          "model_module": "@jupyter-widgets/controls",
          "model_module_version": "1.5.0",
          "model_name": "HBoxModel",
          "state": {
            "_dom_classes": [],
            "_model_module": "@jupyter-widgets/controls",
            "_model_module_version": "1.5.0",
            "_model_name": "HBoxModel",
            "_view_count": null,
            "_view_module": "@jupyter-widgets/controls",
            "_view_module_version": "1.5.0",
            "_view_name": "HBoxView",
            "box_style": "",
            "children": [
              "IPY_MODEL_7eaa955cf94a4f69ade0e0b491a7a6fa",
              "IPY_MODEL_1d12c61558184ebea74c7297e692c6ef",
              "IPY_MODEL_ee4e40fd7d424d28a94f2a5cf3af5965"
            ],
            "layout": "IPY_MODEL_65966e8192da490e9629725501c00bcc"
          }
        },
        "287b8c65fc974e3c8e96ccde475429cd": {
          "model_module": "@jupyter-widgets/base",
          "model_module_version": "1.2.0",
          "model_name": "LayoutModel",
          "state": {
            "_model_module": "@jupyter-widgets/base",
            "_model_module_version": "1.2.0",
            "_model_name": "LayoutModel",
            "_view_count": null,
            "_view_module": "@jupyter-widgets/base",
            "_view_module_version": "1.2.0",
            "_view_name": "LayoutView",
            "align_content": null,
            "align_items": null,
            "align_self": null,
            "border": null,
            "bottom": null,
            "display": null,
            "flex": null,
            "flex_flow": null,
            "grid_area": null,
            "grid_auto_columns": null,
            "grid_auto_flow": null,
            "grid_auto_rows": null,
            "grid_column": null,
            "grid_gap": null,
            "grid_row": null,
            "grid_template_areas": null,
            "grid_template_columns": null,
            "grid_template_rows": null,
            "height": null,
            "justify_content": null,
            "justify_items": null,
            "left": null,
            "margin": null,
            "max_height": null,
            "max_width": null,
            "min_height": null,
            "min_width": null,
            "object_fit": null,
            "object_position": null,
            "order": null,
            "overflow": null,
            "overflow_x": null,
            "overflow_y": null,
            "padding": null,
            "right": null,
            "top": null,
            "visibility": null,
            "width": null
          }
        },
        "2a9815c56442465aa7eabce8aaf8542e": {
          "model_module": "@jupyter-widgets/controls",
          "model_module_version": "1.5.0",
          "model_name": "HBoxModel",
          "state": {
            "_dom_classes": [],
            "_model_module": "@jupyter-widgets/controls",
            "_model_module_version": "1.5.0",
            "_model_name": "HBoxModel",
            "_view_count": null,
            "_view_module": "@jupyter-widgets/controls",
            "_view_module_version": "1.5.0",
            "_view_name": "HBoxView",
            "box_style": "",
            "children": [
              "IPY_MODEL_5ae373541898414bbe2df5a3e1094dc3",
              "IPY_MODEL_75bb465d8e05458480f7fc03b7026d57",
              "IPY_MODEL_5d852c7868ce4332a7b8c9df66b4b034"
            ],
            "layout": "IPY_MODEL_ef1fa111bc0d4ea5addeddd64e754bd9"
          }
        },
        "2b9e25091dd7494a9ccaa31425b4ba88": {
          "model_module": "@jupyter-widgets/controls",
          "model_module_version": "1.5.0",
          "model_name": "ProgressStyleModel",
          "state": {
            "_model_module": "@jupyter-widgets/controls",
            "_model_module_version": "1.5.0",
            "_model_name": "ProgressStyleModel",
            "_view_count": null,
            "_view_module": "@jupyter-widgets/base",
            "_view_module_version": "1.2.0",
            "_view_name": "StyleView",
            "bar_color": null,
            "description_width": ""
          }
        },
        "2f52d8dcc42648d5b721cf3571f6f1b1": {
          "model_module": "@jupyter-widgets/base",
          "model_module_version": "1.2.0",
          "model_name": "LayoutModel",
          "state": {
            "_model_module": "@jupyter-widgets/base",
            "_model_module_version": "1.2.0",
            "_model_name": "LayoutModel",
            "_view_count": null,
            "_view_module": "@jupyter-widgets/base",
            "_view_module_version": "1.2.0",
            "_view_name": "LayoutView",
            "align_content": null,
            "align_items": null,
            "align_self": null,
            "border": null,
            "bottom": null,
            "display": null,
            "flex": null,
            "flex_flow": null,
            "grid_area": null,
            "grid_auto_columns": null,
            "grid_auto_flow": null,
            "grid_auto_rows": null,
            "grid_column": null,
            "grid_gap": null,
            "grid_row": null,
            "grid_template_areas": null,
            "grid_template_columns": null,
            "grid_template_rows": null,
            "height": null,
            "justify_content": null,
            "justify_items": null,
            "left": null,
            "margin": null,
            "max_height": null,
            "max_width": null,
            "min_height": null,
            "min_width": null,
            "object_fit": null,
            "object_position": null,
            "order": null,
            "overflow": null,
            "overflow_x": null,
            "overflow_y": null,
            "padding": null,
            "right": null,
            "top": null,
            "visibility": null,
            "width": null
          }
        },
        "30fff4cf8c6442e9a4d1d947863ffcd2": {
          "model_module": "@jupyter-widgets/controls",
          "model_module_version": "1.5.0",
          "model_name": "DescriptionStyleModel",
          "state": {
            "_model_module": "@jupyter-widgets/controls",
            "_model_module_version": "1.5.0",
            "_model_name": "DescriptionStyleModel",
            "_view_count": null,
            "_view_module": "@jupyter-widgets/base",
            "_view_module_version": "1.2.0",
            "_view_name": "StyleView",
            "description_width": ""
          }
        },
        "3ca9f05c62e448f0aa44447d540fa33a": {
          "model_module": "@jupyter-widgets/controls",
          "model_module_version": "1.5.0",
          "model_name": "ProgressStyleModel",
          "state": {
            "_model_module": "@jupyter-widgets/controls",
            "_model_module_version": "1.5.0",
            "_model_name": "ProgressStyleModel",
            "_view_count": null,
            "_view_module": "@jupyter-widgets/base",
            "_view_module_version": "1.2.0",
            "_view_name": "StyleView",
            "bar_color": null,
            "description_width": ""
          }
        },
        "41af38338be04b1dbe5465a22fed77e1": {
          "model_module": "@jupyter-widgets/controls",
          "model_module_version": "1.5.0",
          "model_name": "DescriptionStyleModel",
          "state": {
            "_model_module": "@jupyter-widgets/controls",
            "_model_module_version": "1.5.0",
            "_model_name": "DescriptionStyleModel",
            "_view_count": null,
            "_view_module": "@jupyter-widgets/base",
            "_view_module_version": "1.2.0",
            "_view_name": "StyleView",
            "description_width": ""
          }
        },
        "4ac5effbf4e14b2f80f6a9c1d597e557": {
          "model_module": "@jupyter-widgets/base",
          "model_module_version": "1.2.0",
          "model_name": "LayoutModel",
          "state": {
            "_model_module": "@jupyter-widgets/base",
            "_model_module_version": "1.2.0",
            "_model_name": "LayoutModel",
            "_view_count": null,
            "_view_module": "@jupyter-widgets/base",
            "_view_module_version": "1.2.0",
            "_view_name": "LayoutView",
            "align_content": null,
            "align_items": null,
            "align_self": null,
            "border": null,
            "bottom": null,
            "display": null,
            "flex": null,
            "flex_flow": null,
            "grid_area": null,
            "grid_auto_columns": null,
            "grid_auto_flow": null,
            "grid_auto_rows": null,
            "grid_column": null,
            "grid_gap": null,
            "grid_row": null,
            "grid_template_areas": null,
            "grid_template_columns": null,
            "grid_template_rows": null,
            "height": null,
            "justify_content": null,
            "justify_items": null,
            "left": null,
            "margin": null,
            "max_height": null,
            "max_width": null,
            "min_height": null,
            "min_width": null,
            "object_fit": null,
            "object_position": null,
            "order": null,
            "overflow": null,
            "overflow_x": null,
            "overflow_y": null,
            "padding": null,
            "right": null,
            "top": null,
            "visibility": null,
            "width": null
          }
        },
        "4d3711569151440b9da0236210e02735": {
          "model_module": "@jupyter-widgets/base",
          "model_module_version": "1.2.0",
          "model_name": "LayoutModel",
          "state": {
            "_model_module": "@jupyter-widgets/base",
            "_model_module_version": "1.2.0",
            "_model_name": "LayoutModel",
            "_view_count": null,
            "_view_module": "@jupyter-widgets/base",
            "_view_module_version": "1.2.0",
            "_view_name": "LayoutView",
            "align_content": null,
            "align_items": null,
            "align_self": null,
            "border": null,
            "bottom": null,
            "display": null,
            "flex": null,
            "flex_flow": null,
            "grid_area": null,
            "grid_auto_columns": null,
            "grid_auto_flow": null,
            "grid_auto_rows": null,
            "grid_column": null,
            "grid_gap": null,
            "grid_row": null,
            "grid_template_areas": null,
            "grid_template_columns": null,
            "grid_template_rows": null,
            "height": null,
            "justify_content": null,
            "justify_items": null,
            "left": null,
            "margin": null,
            "max_height": null,
            "max_width": null,
            "min_height": null,
            "min_width": null,
            "object_fit": null,
            "object_position": null,
            "order": null,
            "overflow": null,
            "overflow_x": null,
            "overflow_y": null,
            "padding": null,
            "right": null,
            "top": null,
            "visibility": null,
            "width": null
          }
        },
        "5204e1d878724041a59ad4eaa94b0e3f": {
          "model_module": "@jupyter-widgets/controls",
          "model_module_version": "1.5.0",
          "model_name": "ProgressStyleModel",
          "state": {
            "_model_module": "@jupyter-widgets/controls",
            "_model_module_version": "1.5.0",
            "_model_name": "ProgressStyleModel",
            "_view_count": null,
            "_view_module": "@jupyter-widgets/base",
            "_view_module_version": "1.2.0",
            "_view_name": "StyleView",
            "bar_color": null,
            "description_width": ""
          }
        },
        "5577254ac0954cdd91b9b02764510744": {
          "model_module": "@jupyter-widgets/controls",
          "model_module_version": "1.5.0",
          "model_name": "DescriptionStyleModel",
          "state": {
            "_model_module": "@jupyter-widgets/controls",
            "_model_module_version": "1.5.0",
            "_model_name": "DescriptionStyleModel",
            "_view_count": null,
            "_view_module": "@jupyter-widgets/base",
            "_view_module_version": "1.2.0",
            "_view_name": "StyleView",
            "description_width": ""
          }
        },
        "569f3acff53e4b1a8aa3e0bdf861d55e": {
          "model_module": "@jupyter-widgets/controls",
          "model_module_version": "1.5.0",
          "model_name": "DescriptionStyleModel",
          "state": {
            "_model_module": "@jupyter-widgets/controls",
            "_model_module_version": "1.5.0",
            "_model_name": "DescriptionStyleModel",
            "_view_count": null,
            "_view_module": "@jupyter-widgets/base",
            "_view_module_version": "1.2.0",
            "_view_name": "StyleView",
            "description_width": ""
          }
        },
        "5ae373541898414bbe2df5a3e1094dc3": {
          "model_module": "@jupyter-widgets/controls",
          "model_module_version": "1.5.0",
          "model_name": "HTMLModel",
          "state": {
            "_dom_classes": [],
            "_model_module": "@jupyter-widgets/controls",
            "_model_module_version": "1.5.0",
            "_model_name": "HTMLModel",
            "_view_count": null,
            "_view_module": "@jupyter-widgets/controls",
            "_view_module_version": "1.5.0",
            "_view_name": "HTMLView",
            "description": "",
            "description_tooltip": null,
            "layout": "IPY_MODEL_700a48c87f884e05a1f83403827daa5a",
            "placeholder": "​",
            "style": "IPY_MODEL_c447809242b24c7899ffb785d83a1779",
            "value": "Downloading: 100%"
          }
        },
        "5d852c7868ce4332a7b8c9df66b4b034": {
          "model_module": "@jupyter-widgets/controls",
          "model_module_version": "1.5.0",
          "model_name": "HTMLModel",
          "state": {
            "_dom_classes": [],
            "_model_module": "@jupyter-widgets/controls",
            "_model_module_version": "1.5.0",
            "_model_name": "HTMLModel",
            "_view_count": null,
            "_view_module": "@jupyter-widgets/controls",
            "_view_module_version": "1.5.0",
            "_view_name": "HTMLView",
            "description": "",
            "description_tooltip": null,
            "layout": "IPY_MODEL_7b288da422024067bc0794d16748e82f",
            "placeholder": "​",
            "style": "IPY_MODEL_b5dfe221072c4c6cb0fcfbcbef1dda3d",
            "value": " 28.0/28.0 [00:00&lt;00:00, 705B/s]"
          }
        },
        "5ebf85f41d1742259357b353a3ebd530": {
          "model_module": "@jupyter-widgets/controls",
          "model_module_version": "1.5.0",
          "model_name": "HBoxModel",
          "state": {
            "_dom_classes": [],
            "_model_module": "@jupyter-widgets/controls",
            "_model_module_version": "1.5.0",
            "_model_name": "HBoxModel",
            "_view_count": null,
            "_view_module": "@jupyter-widgets/controls",
            "_view_module_version": "1.5.0",
            "_view_name": "HBoxView",
            "box_style": "",
            "children": [
              "IPY_MODEL_13a32cf84ad74e7ab779fa9b2b956265",
              "IPY_MODEL_e7e1aa6759664facb25efd73d94aac5d",
              "IPY_MODEL_b91a1b44bff74c5a81cf4bcc11eca0e4"
            ],
            "layout": "IPY_MODEL_06c95543f37743129a77d703ebaa15f4"
          }
        },
        "618641b126b54f8f8d04080eafc1fc08": {
          "model_module": "@jupyter-widgets/base",
          "model_module_version": "1.2.0",
          "model_name": "LayoutModel",
          "state": {
            "_model_module": "@jupyter-widgets/base",
            "_model_module_version": "1.2.0",
            "_model_name": "LayoutModel",
            "_view_count": null,
            "_view_module": "@jupyter-widgets/base",
            "_view_module_version": "1.2.0",
            "_view_name": "LayoutView",
            "align_content": null,
            "align_items": null,
            "align_self": null,
            "border": null,
            "bottom": null,
            "display": null,
            "flex": null,
            "flex_flow": null,
            "grid_area": null,
            "grid_auto_columns": null,
            "grid_auto_flow": null,
            "grid_auto_rows": null,
            "grid_column": null,
            "grid_gap": null,
            "grid_row": null,
            "grid_template_areas": null,
            "grid_template_columns": null,
            "grid_template_rows": null,
            "height": null,
            "justify_content": null,
            "justify_items": null,
            "left": null,
            "margin": null,
            "max_height": null,
            "max_width": null,
            "min_height": null,
            "min_width": null,
            "object_fit": null,
            "object_position": null,
            "order": null,
            "overflow": null,
            "overflow_x": null,
            "overflow_y": null,
            "padding": null,
            "right": null,
            "top": null,
            "visibility": null,
            "width": null
          }
        },
        "65966e8192da490e9629725501c00bcc": {
          "model_module": "@jupyter-widgets/base",
          "model_module_version": "1.2.0",
          "model_name": "LayoutModel",
          "state": {
            "_model_module": "@jupyter-widgets/base",
            "_model_module_version": "1.2.0",
            "_model_name": "LayoutModel",
            "_view_count": null,
            "_view_module": "@jupyter-widgets/base",
            "_view_module_version": "1.2.0",
            "_view_name": "LayoutView",
            "align_content": null,
            "align_items": null,
            "align_self": null,
            "border": null,
            "bottom": null,
            "display": null,
            "flex": null,
            "flex_flow": null,
            "grid_area": null,
            "grid_auto_columns": null,
            "grid_auto_flow": null,
            "grid_auto_rows": null,
            "grid_column": null,
            "grid_gap": null,
            "grid_row": null,
            "grid_template_areas": null,
            "grid_template_columns": null,
            "grid_template_rows": null,
            "height": null,
            "justify_content": null,
            "justify_items": null,
            "left": null,
            "margin": null,
            "max_height": null,
            "max_width": null,
            "min_height": null,
            "min_width": null,
            "object_fit": null,
            "object_position": null,
            "order": null,
            "overflow": null,
            "overflow_x": null,
            "overflow_y": null,
            "padding": null,
            "right": null,
            "top": null,
            "visibility": null,
            "width": null
          }
        },
        "700a48c87f884e05a1f83403827daa5a": {
          "model_module": "@jupyter-widgets/base",
          "model_module_version": "1.2.0",
          "model_name": "LayoutModel",
          "state": {
            "_model_module": "@jupyter-widgets/base",
            "_model_module_version": "1.2.0",
            "_model_name": "LayoutModel",
            "_view_count": null,
            "_view_module": "@jupyter-widgets/base",
            "_view_module_version": "1.2.0",
            "_view_name": "LayoutView",
            "align_content": null,
            "align_items": null,
            "align_self": null,
            "border": null,
            "bottom": null,
            "display": null,
            "flex": null,
            "flex_flow": null,
            "grid_area": null,
            "grid_auto_columns": null,
            "grid_auto_flow": null,
            "grid_auto_rows": null,
            "grid_column": null,
            "grid_gap": null,
            "grid_row": null,
            "grid_template_areas": null,
            "grid_template_columns": null,
            "grid_template_rows": null,
            "height": null,
            "justify_content": null,
            "justify_items": null,
            "left": null,
            "margin": null,
            "max_height": null,
            "max_width": null,
            "min_height": null,
            "min_width": null,
            "object_fit": null,
            "object_position": null,
            "order": null,
            "overflow": null,
            "overflow_x": null,
            "overflow_y": null,
            "padding": null,
            "right": null,
            "top": null,
            "visibility": null,
            "width": null
          }
        },
        "75bb465d8e05458480f7fc03b7026d57": {
          "model_module": "@jupyter-widgets/controls",
          "model_module_version": "1.5.0",
          "model_name": "FloatProgressModel",
          "state": {
            "_dom_classes": [],
            "_model_module": "@jupyter-widgets/controls",
            "_model_module_version": "1.5.0",
            "_model_name": "FloatProgressModel",
            "_view_count": null,
            "_view_module": "@jupyter-widgets/controls",
            "_view_module_version": "1.5.0",
            "_view_name": "ProgressView",
            "bar_style": "success",
            "description": "",
            "description_tooltip": null,
            "layout": "IPY_MODEL_d73dd8d7abda4f3bb12cbe94b6ba4b01",
            "max": 28,
            "min": 0,
            "orientation": "horizontal",
            "style": "IPY_MODEL_3ca9f05c62e448f0aa44447d540fa33a",
            "value": 28
          }
        },
        "7b288da422024067bc0794d16748e82f": {
          "model_module": "@jupyter-widgets/base",
          "model_module_version": "1.2.0",
          "model_name": "LayoutModel",
          "state": {
            "_model_module": "@jupyter-widgets/base",
            "_model_module_version": "1.2.0",
            "_model_name": "LayoutModel",
            "_view_count": null,
            "_view_module": "@jupyter-widgets/base",
            "_view_module_version": "1.2.0",
            "_view_name": "LayoutView",
            "align_content": null,
            "align_items": null,
            "align_self": null,
            "border": null,
            "bottom": null,
            "display": null,
            "flex": null,
            "flex_flow": null,
            "grid_area": null,
            "grid_auto_columns": null,
            "grid_auto_flow": null,
            "grid_auto_rows": null,
            "grid_column": null,
            "grid_gap": null,
            "grid_row": null,
            "grid_template_areas": null,
            "grid_template_columns": null,
            "grid_template_rows": null,
            "height": null,
            "justify_content": null,
            "justify_items": null,
            "left": null,
            "margin": null,
            "max_height": null,
            "max_width": null,
            "min_height": null,
            "min_width": null,
            "object_fit": null,
            "object_position": null,
            "order": null,
            "overflow": null,
            "overflow_x": null,
            "overflow_y": null,
            "padding": null,
            "right": null,
            "top": null,
            "visibility": null,
            "width": null
          }
        },
        "7bf42ad974f344f8943e04b94b9a54d4": {
          "model_module": "@jupyter-widgets/base",
          "model_module_version": "1.2.0",
          "model_name": "LayoutModel",
          "state": {
            "_model_module": "@jupyter-widgets/base",
            "_model_module_version": "1.2.0",
            "_model_name": "LayoutModel",
            "_view_count": null,
            "_view_module": "@jupyter-widgets/base",
            "_view_module_version": "1.2.0",
            "_view_name": "LayoutView",
            "align_content": null,
            "align_items": null,
            "align_self": null,
            "border": null,
            "bottom": null,
            "display": null,
            "flex": null,
            "flex_flow": null,
            "grid_area": null,
            "grid_auto_columns": null,
            "grid_auto_flow": null,
            "grid_auto_rows": null,
            "grid_column": null,
            "grid_gap": null,
            "grid_row": null,
            "grid_template_areas": null,
            "grid_template_columns": null,
            "grid_template_rows": null,
            "height": null,
            "justify_content": null,
            "justify_items": null,
            "left": null,
            "margin": null,
            "max_height": null,
            "max_width": null,
            "min_height": null,
            "min_width": null,
            "object_fit": null,
            "object_position": null,
            "order": null,
            "overflow": null,
            "overflow_x": null,
            "overflow_y": null,
            "padding": null,
            "right": null,
            "top": null,
            "visibility": null,
            "width": null
          }
        },
        "7eaa955cf94a4f69ade0e0b491a7a6fa": {
          "model_module": "@jupyter-widgets/controls",
          "model_module_version": "1.5.0",
          "model_name": "HTMLModel",
          "state": {
            "_dom_classes": [],
            "_model_module": "@jupyter-widgets/controls",
            "_model_module_version": "1.5.0",
            "_model_name": "HTMLModel",
            "_view_count": null,
            "_view_module": "@jupyter-widgets/controls",
            "_view_module_version": "1.5.0",
            "_view_name": "HTMLView",
            "description": "",
            "description_tooltip": null,
            "layout": "IPY_MODEL_d9404f89714941618ccbd241457f843f",
            "placeholder": "​",
            "style": "IPY_MODEL_83a850cc06834a9d882d3b9073800f47",
            "value": "Downloading: 100%"
          }
        },
        "83a850cc06834a9d882d3b9073800f47": {
          "model_module": "@jupyter-widgets/controls",
          "model_module_version": "1.5.0",
          "model_name": "DescriptionStyleModel",
          "state": {
            "_model_module": "@jupyter-widgets/controls",
            "_model_module_version": "1.5.0",
            "_model_name": "DescriptionStyleModel",
            "_view_count": null,
            "_view_module": "@jupyter-widgets/base",
            "_view_module_version": "1.2.0",
            "_view_name": "StyleView",
            "description_width": ""
          }
        },
        "8875cc6b2f62406181b9a55f79f8d8ff": {
          "model_module": "@jupyter-widgets/base",
          "model_module_version": "1.2.0",
          "model_name": "LayoutModel",
          "state": {
            "_model_module": "@jupyter-widgets/base",
            "_model_module_version": "1.2.0",
            "_model_name": "LayoutModel",
            "_view_count": null,
            "_view_module": "@jupyter-widgets/base",
            "_view_module_version": "1.2.0",
            "_view_name": "LayoutView",
            "align_content": null,
            "align_items": null,
            "align_self": null,
            "border": null,
            "bottom": null,
            "display": null,
            "flex": null,
            "flex_flow": null,
            "grid_area": null,
            "grid_auto_columns": null,
            "grid_auto_flow": null,
            "grid_auto_rows": null,
            "grid_column": null,
            "grid_gap": null,
            "grid_row": null,
            "grid_template_areas": null,
            "grid_template_columns": null,
            "grid_template_rows": null,
            "height": null,
            "justify_content": null,
            "justify_items": null,
            "left": null,
            "margin": null,
            "max_height": null,
            "max_width": null,
            "min_height": null,
            "min_width": null,
            "object_fit": null,
            "object_position": null,
            "order": null,
            "overflow": null,
            "overflow_x": null,
            "overflow_y": null,
            "padding": null,
            "right": null,
            "top": null,
            "visibility": null,
            "width": null
          }
        },
        "8a012743cbc24a46a29431af97da4ac8": {
          "model_module": "@jupyter-widgets/controls",
          "model_module_version": "1.5.0",
          "model_name": "HBoxModel",
          "state": {
            "_dom_classes": [],
            "_model_module": "@jupyter-widgets/controls",
            "_model_module_version": "1.5.0",
            "_model_name": "HBoxModel",
            "_view_count": null,
            "_view_module": "@jupyter-widgets/controls",
            "_view_module_version": "1.5.0",
            "_view_name": "HBoxView",
            "box_style": "",
            "children": [
              "IPY_MODEL_fc95408dfb294cc6b6c19f75d8fbc38e",
              "IPY_MODEL_e098ca8d862f4338a88d2eaab4a2d719",
              "IPY_MODEL_a8353ffd0f7c423caaa0647311524d41"
            ],
            "layout": "IPY_MODEL_1873d3ce87224492b5c30c60f0f26ff4"
          }
        },
        "8ac0af2932d54f92af129e18f7846623": {
          "model_module": "@jupyter-widgets/controls",
          "model_module_version": "1.5.0",
          "model_name": "DescriptionStyleModel",
          "state": {
            "_model_module": "@jupyter-widgets/controls",
            "_model_module_version": "1.5.0",
            "_model_name": "DescriptionStyleModel",
            "_view_count": null,
            "_view_module": "@jupyter-widgets/base",
            "_view_module_version": "1.2.0",
            "_view_name": "StyleView",
            "description_width": ""
          }
        },
        "938784975aab47798c1d68a3d0fa8dfb": {
          "model_module": "@jupyter-widgets/controls",
          "model_module_version": "1.5.0",
          "model_name": "HBoxModel",
          "state": {
            "_dom_classes": [],
            "_model_module": "@jupyter-widgets/controls",
            "_model_module_version": "1.5.0",
            "_model_name": "HBoxModel",
            "_view_count": null,
            "_view_module": "@jupyter-widgets/controls",
            "_view_module_version": "1.5.0",
            "_view_name": "HBoxView",
            "box_style": "",
            "children": [
              "IPY_MODEL_94b493068d5d47b19f7d7cd680787446",
              "IPY_MODEL_a9f1cf3d6ad040ca8e86bdfce90bca81",
              "IPY_MODEL_aa990b372397497885fa86db859ea69c"
            ],
            "layout": "IPY_MODEL_8875cc6b2f62406181b9a55f79f8d8ff"
          }
        },
        "94b493068d5d47b19f7d7cd680787446": {
          "model_module": "@jupyter-widgets/controls",
          "model_module_version": "1.5.0",
          "model_name": "HTMLModel",
          "state": {
            "_dom_classes": [],
            "_model_module": "@jupyter-widgets/controls",
            "_model_module_version": "1.5.0",
            "_model_name": "HTMLModel",
            "_view_count": null,
            "_view_module": "@jupyter-widgets/controls",
            "_view_module_version": "1.5.0",
            "_view_name": "HTMLView",
            "description": "",
            "description_tooltip": null,
            "layout": "IPY_MODEL_b13d0d08cf6e47629535aa5afdc56804",
            "placeholder": "​",
            "style": "IPY_MODEL_8ac0af2932d54f92af129e18f7846623",
            "value": "Downloading: 100%"
          }
        },
        "9e6fd12373ca4cb9924974fdb72ba9fd": {
          "model_module": "@jupyter-widgets/base",
          "model_module_version": "1.2.0",
          "model_name": "LayoutModel",
          "state": {
            "_model_module": "@jupyter-widgets/base",
            "_model_module_version": "1.2.0",
            "_model_name": "LayoutModel",
            "_view_count": null,
            "_view_module": "@jupyter-widgets/base",
            "_view_module_version": "1.2.0",
            "_view_name": "LayoutView",
            "align_content": null,
            "align_items": null,
            "align_self": null,
            "border": null,
            "bottom": null,
            "display": null,
            "flex": null,
            "flex_flow": null,
            "grid_area": null,
            "grid_auto_columns": null,
            "grid_auto_flow": null,
            "grid_auto_rows": null,
            "grid_column": null,
            "grid_gap": null,
            "grid_row": null,
            "grid_template_areas": null,
            "grid_template_columns": null,
            "grid_template_rows": null,
            "height": null,
            "justify_content": null,
            "justify_items": null,
            "left": null,
            "margin": null,
            "max_height": null,
            "max_width": null,
            "min_height": null,
            "min_width": null,
            "object_fit": null,
            "object_position": null,
            "order": null,
            "overflow": null,
            "overflow_x": null,
            "overflow_y": null,
            "padding": null,
            "right": null,
            "top": null,
            "visibility": null,
            "width": null
          }
        },
        "a2e56a2f16be4764a7669dad68000cc3": {
          "model_module": "@jupyter-widgets/controls",
          "model_module_version": "1.5.0",
          "model_name": "ProgressStyleModel",
          "state": {
            "_model_module": "@jupyter-widgets/controls",
            "_model_module_version": "1.5.0",
            "_model_name": "ProgressStyleModel",
            "_view_count": null,
            "_view_module": "@jupyter-widgets/base",
            "_view_module_version": "1.2.0",
            "_view_name": "StyleView",
            "bar_color": null,
            "description_width": ""
          }
        },
        "a8353ffd0f7c423caaa0647311524d41": {
          "model_module": "@jupyter-widgets/controls",
          "model_module_version": "1.5.0",
          "model_name": "HTMLModel",
          "state": {
            "_dom_classes": [],
            "_model_module": "@jupyter-widgets/controls",
            "_model_module_version": "1.5.0",
            "_model_name": "HTMLModel",
            "_view_count": null,
            "_view_module": "@jupyter-widgets/controls",
            "_view_module_version": "1.5.0",
            "_view_name": "HTMLView",
            "description": "",
            "description_tooltip": null,
            "layout": "IPY_MODEL_618641b126b54f8f8d04080eafc1fc08",
            "placeholder": "​",
            "style": "IPY_MODEL_5577254ac0954cdd91b9b02764510744",
            "value": " 536M/536M [00:28&lt;00:00, 19.5MB/s]"
          }
        },
        "a9286a3235ee460abc67ef726cb0cb06": {
          "model_module": "@jupyter-widgets/controls",
          "model_module_version": "1.5.0",
          "model_name": "ProgressStyleModel",
          "state": {
            "_model_module": "@jupyter-widgets/controls",
            "_model_module_version": "1.5.0",
            "_model_name": "ProgressStyleModel",
            "_view_count": null,
            "_view_module": "@jupyter-widgets/base",
            "_view_module_version": "1.2.0",
            "_view_name": "StyleView",
            "bar_color": null,
            "description_width": ""
          }
        },
        "a9f1cf3d6ad040ca8e86bdfce90bca81": {
          "model_module": "@jupyter-widgets/controls",
          "model_module_version": "1.5.0",
          "model_name": "FloatProgressModel",
          "state": {
            "_dom_classes": [],
            "_model_module": "@jupyter-widgets/controls",
            "_model_module_version": "1.5.0",
            "_model_name": "FloatProgressModel",
            "_view_count": null,
            "_view_module": "@jupyter-widgets/controls",
            "_view_module_version": "1.5.0",
            "_view_name": "ProgressView",
            "bar_style": "success",
            "description": "",
            "description_tooltip": null,
            "layout": "IPY_MODEL_e0f16e2d0cfc4ab5b91412f91e64261e",
            "max": 231508,
            "min": 0,
            "orientation": "horizontal",
            "style": "IPY_MODEL_5204e1d878724041a59ad4eaa94b0e3f",
            "value": 231508
          }
        },
        "aa990b372397497885fa86db859ea69c": {
          "model_module": "@jupyter-widgets/controls",
          "model_module_version": "1.5.0",
          "model_name": "HTMLModel",
          "state": {
            "_dom_classes": [],
            "_model_module": "@jupyter-widgets/controls",
            "_model_module_version": "1.5.0",
            "_model_name": "HTMLModel",
            "_view_count": null,
            "_view_module": "@jupyter-widgets/controls",
            "_view_module_version": "1.5.0",
            "_view_name": "HTMLView",
            "description": "",
            "description_tooltip": null,
            "layout": "IPY_MODEL_287b8c65fc974e3c8e96ccde475429cd",
            "placeholder": "​",
            "style": "IPY_MODEL_41af38338be04b1dbe5465a22fed77e1",
            "value": " 232k/232k [00:00&lt;00:00, 700kB/s]"
          }
        },
        "b13d0d08cf6e47629535aa5afdc56804": {
          "model_module": "@jupyter-widgets/base",
          "model_module_version": "1.2.0",
          "model_name": "LayoutModel",
          "state": {
            "_model_module": "@jupyter-widgets/base",
            "_model_module_version": "1.2.0",
            "_model_name": "LayoutModel",
            "_view_count": null,
            "_view_module": "@jupyter-widgets/base",
            "_view_module_version": "1.2.0",
            "_view_name": "LayoutView",
            "align_content": null,
            "align_items": null,
            "align_self": null,
            "border": null,
            "bottom": null,
            "display": null,
            "flex": null,
            "flex_flow": null,
            "grid_area": null,
            "grid_auto_columns": null,
            "grid_auto_flow": null,
            "grid_auto_rows": null,
            "grid_column": null,
            "grid_gap": null,
            "grid_row": null,
            "grid_template_areas": null,
            "grid_template_columns": null,
            "grid_template_rows": null,
            "height": null,
            "justify_content": null,
            "justify_items": null,
            "left": null,
            "margin": null,
            "max_height": null,
            "max_width": null,
            "min_height": null,
            "min_width": null,
            "object_fit": null,
            "object_position": null,
            "order": null,
            "overflow": null,
            "overflow_x": null,
            "overflow_y": null,
            "padding": null,
            "right": null,
            "top": null,
            "visibility": null,
            "width": null
          }
        },
        "b5dfe221072c4c6cb0fcfbcbef1dda3d": {
          "model_module": "@jupyter-widgets/controls",
          "model_module_version": "1.5.0",
          "model_name": "DescriptionStyleModel",
          "state": {
            "_model_module": "@jupyter-widgets/controls",
            "_model_module_version": "1.5.0",
            "_model_name": "DescriptionStyleModel",
            "_view_count": null,
            "_view_module": "@jupyter-widgets/base",
            "_view_module_version": "1.2.0",
            "_view_name": "StyleView",
            "description_width": ""
          }
        },
        "b91a1b44bff74c5a81cf4bcc11eca0e4": {
          "model_module": "@jupyter-widgets/controls",
          "model_module_version": "1.5.0",
          "model_name": "HTMLModel",
          "state": {
            "_dom_classes": [],
            "_model_module": "@jupyter-widgets/controls",
            "_model_module_version": "1.5.0",
            "_model_name": "HTMLModel",
            "_view_count": null,
            "_view_module": "@jupyter-widgets/controls",
            "_view_module_version": "1.5.0",
            "_view_name": "HTMLView",
            "description": "",
            "description_tooltip": null,
            "layout": "IPY_MODEL_4d3711569151440b9da0236210e02735",
            "placeholder": "​",
            "style": "IPY_MODEL_c06765f864db4a70b6fe67403f9753ab",
            "value": " 466k/466k [00:00&lt;00:00, 1.35MB/s]"
          }
        },
        "c06765f864db4a70b6fe67403f9753ab": {
          "model_module": "@jupyter-widgets/controls",
          "model_module_version": "1.5.0",
          "model_name": "DescriptionStyleModel",
          "state": {
            "_model_module": "@jupyter-widgets/controls",
            "_model_module_version": "1.5.0",
            "_model_name": "DescriptionStyleModel",
            "_view_count": null,
            "_view_module": "@jupyter-widgets/base",
            "_view_module_version": "1.2.0",
            "_view_name": "StyleView",
            "description_width": ""
          }
        },
        "c447809242b24c7899ffb785d83a1779": {
          "model_module": "@jupyter-widgets/controls",
          "model_module_version": "1.5.0",
          "model_name": "DescriptionStyleModel",
          "state": {
            "_model_module": "@jupyter-widgets/controls",
            "_model_module_version": "1.5.0",
            "_model_name": "DescriptionStyleModel",
            "_view_count": null,
            "_view_module": "@jupyter-widgets/base",
            "_view_module_version": "1.2.0",
            "_view_name": "StyleView",
            "description_width": ""
          }
        },
        "d73dd8d7abda4f3bb12cbe94b6ba4b01": {
          "model_module": "@jupyter-widgets/base",
          "model_module_version": "1.2.0",
          "model_name": "LayoutModel",
          "state": {
            "_model_module": "@jupyter-widgets/base",
            "_model_module_version": "1.2.0",
            "_model_name": "LayoutModel",
            "_view_count": null,
            "_view_module": "@jupyter-widgets/base",
            "_view_module_version": "1.2.0",
            "_view_name": "LayoutView",
            "align_content": null,
            "align_items": null,
            "align_self": null,
            "border": null,
            "bottom": null,
            "display": null,
            "flex": null,
            "flex_flow": null,
            "grid_area": null,
            "grid_auto_columns": null,
            "grid_auto_flow": null,
            "grid_auto_rows": null,
            "grid_column": null,
            "grid_gap": null,
            "grid_row": null,
            "grid_template_areas": null,
            "grid_template_columns": null,
            "grid_template_rows": null,
            "height": null,
            "justify_content": null,
            "justify_items": null,
            "left": null,
            "margin": null,
            "max_height": null,
            "max_width": null,
            "min_height": null,
            "min_width": null,
            "object_fit": null,
            "object_position": null,
            "order": null,
            "overflow": null,
            "overflow_x": null,
            "overflow_y": null,
            "padding": null,
            "right": null,
            "top": null,
            "visibility": null,
            "width": null
          }
        },
        "d9404f89714941618ccbd241457f843f": {
          "model_module": "@jupyter-widgets/base",
          "model_module_version": "1.2.0",
          "model_name": "LayoutModel",
          "state": {
            "_model_module": "@jupyter-widgets/base",
            "_model_module_version": "1.2.0",
            "_model_name": "LayoutModel",
            "_view_count": null,
            "_view_module": "@jupyter-widgets/base",
            "_view_module_version": "1.2.0",
            "_view_name": "LayoutView",
            "align_content": null,
            "align_items": null,
            "align_self": null,
            "border": null,
            "bottom": null,
            "display": null,
            "flex": null,
            "flex_flow": null,
            "grid_area": null,
            "grid_auto_columns": null,
            "grid_auto_flow": null,
            "grid_auto_rows": null,
            "grid_column": null,
            "grid_gap": null,
            "grid_row": null,
            "grid_template_areas": null,
            "grid_template_columns": null,
            "grid_template_rows": null,
            "height": null,
            "justify_content": null,
            "justify_items": null,
            "left": null,
            "margin": null,
            "max_height": null,
            "max_width": null,
            "min_height": null,
            "min_width": null,
            "object_fit": null,
            "object_position": null,
            "order": null,
            "overflow": null,
            "overflow_x": null,
            "overflow_y": null,
            "padding": null,
            "right": null,
            "top": null,
            "visibility": null,
            "width": null
          }
        },
        "e098ca8d862f4338a88d2eaab4a2d719": {
          "model_module": "@jupyter-widgets/controls",
          "model_module_version": "1.5.0",
          "model_name": "FloatProgressModel",
          "state": {
            "_dom_classes": [],
            "_model_module": "@jupyter-widgets/controls",
            "_model_module_version": "1.5.0",
            "_model_name": "FloatProgressModel",
            "_view_count": null,
            "_view_module": "@jupyter-widgets/controls",
            "_view_module_version": "1.5.0",
            "_view_name": "ProgressView",
            "bar_style": "success",
            "description": "",
            "description_tooltip": null,
            "layout": "IPY_MODEL_11c43aab4f354e88b4376cb0223d4465",
            "max": 536063208,
            "min": 0,
            "orientation": "horizontal",
            "style": "IPY_MODEL_2b9e25091dd7494a9ccaa31425b4ba88",
            "value": 536063208
          }
        },
        "e0f16e2d0cfc4ab5b91412f91e64261e": {
          "model_module": "@jupyter-widgets/base",
          "model_module_version": "1.2.0",
          "model_name": "LayoutModel",
          "state": {
            "_model_module": "@jupyter-widgets/base",
            "_model_module_version": "1.2.0",
            "_model_name": "LayoutModel",
            "_view_count": null,
            "_view_module": "@jupyter-widgets/base",
            "_view_module_version": "1.2.0",
            "_view_name": "LayoutView",
            "align_content": null,
            "align_items": null,
            "align_self": null,
            "border": null,
            "bottom": null,
            "display": null,
            "flex": null,
            "flex_flow": null,
            "grid_area": null,
            "grid_auto_columns": null,
            "grid_auto_flow": null,
            "grid_auto_rows": null,
            "grid_column": null,
            "grid_gap": null,
            "grid_row": null,
            "grid_template_areas": null,
            "grid_template_columns": null,
            "grid_template_rows": null,
            "height": null,
            "justify_content": null,
            "justify_items": null,
            "left": null,
            "margin": null,
            "max_height": null,
            "max_width": null,
            "min_height": null,
            "min_width": null,
            "object_fit": null,
            "object_position": null,
            "order": null,
            "overflow": null,
            "overflow_x": null,
            "overflow_y": null,
            "padding": null,
            "right": null,
            "top": null,
            "visibility": null,
            "width": null
          }
        },
        "e7e1aa6759664facb25efd73d94aac5d": {
          "model_module": "@jupyter-widgets/controls",
          "model_module_version": "1.5.0",
          "model_name": "FloatProgressModel",
          "state": {
            "_dom_classes": [],
            "_model_module": "@jupyter-widgets/controls",
            "_model_module_version": "1.5.0",
            "_model_name": "FloatProgressModel",
            "_view_count": null,
            "_view_module": "@jupyter-widgets/controls",
            "_view_module_version": "1.5.0",
            "_view_name": "ProgressView",
            "bar_style": "success",
            "description": "",
            "description_tooltip": null,
            "layout": "IPY_MODEL_9e6fd12373ca4cb9924974fdb72ba9fd",
            "max": 466062,
            "min": 0,
            "orientation": "horizontal",
            "style": "IPY_MODEL_a9286a3235ee460abc67ef726cb0cb06",
            "value": 466062
          }
        },
        "ee4e40fd7d424d28a94f2a5cf3af5965": {
          "model_module": "@jupyter-widgets/controls",
          "model_module_version": "1.5.0",
          "model_name": "HTMLModel",
          "state": {
            "_dom_classes": [],
            "_model_module": "@jupyter-widgets/controls",
            "_model_module_version": "1.5.0",
            "_model_name": "HTMLModel",
            "_view_count": null,
            "_view_module": "@jupyter-widgets/controls",
            "_view_module_version": "1.5.0",
            "_view_name": "HTMLView",
            "description": "",
            "description_tooltip": null,
            "layout": "IPY_MODEL_7bf42ad974f344f8943e04b94b9a54d4",
            "placeholder": "​",
            "style": "IPY_MODEL_ffb5a0071ed649c3a8cc762905c6343d",
            "value": " 570/570 [00:00&lt;00:00, 13.0kB/s]"
          }
        },
        "ef1fa111bc0d4ea5addeddd64e754bd9": {
          "model_module": "@jupyter-widgets/base",
          "model_module_version": "1.2.0",
          "model_name": "LayoutModel",
          "state": {
            "_model_module": "@jupyter-widgets/base",
            "_model_module_version": "1.2.0",
            "_model_name": "LayoutModel",
            "_view_count": null,
            "_view_module": "@jupyter-widgets/base",
            "_view_module_version": "1.2.0",
            "_view_name": "LayoutView",
            "align_content": null,
            "align_items": null,
            "align_self": null,
            "border": null,
            "bottom": null,
            "display": null,
            "flex": null,
            "flex_flow": null,
            "grid_area": null,
            "grid_auto_columns": null,
            "grid_auto_flow": null,
            "grid_auto_rows": null,
            "grid_column": null,
            "grid_gap": null,
            "grid_row": null,
            "grid_template_areas": null,
            "grid_template_columns": null,
            "grid_template_rows": null,
            "height": null,
            "justify_content": null,
            "justify_items": null,
            "left": null,
            "margin": null,
            "max_height": null,
            "max_width": null,
            "min_height": null,
            "min_width": null,
            "object_fit": null,
            "object_position": null,
            "order": null,
            "overflow": null,
            "overflow_x": null,
            "overflow_y": null,
            "padding": null,
            "right": null,
            "top": null,
            "visibility": null,
            "width": null
          }
        },
        "fc5acecd06bd4d768669618df07a9abc": {
          "model_module": "@jupyter-widgets/base",
          "model_module_version": "1.2.0",
          "model_name": "LayoutModel",
          "state": {
            "_model_module": "@jupyter-widgets/base",
            "_model_module_version": "1.2.0",
            "_model_name": "LayoutModel",
            "_view_count": null,
            "_view_module": "@jupyter-widgets/base",
            "_view_module_version": "1.2.0",
            "_view_name": "LayoutView",
            "align_content": null,
            "align_items": null,
            "align_self": null,
            "border": null,
            "bottom": null,
            "display": null,
            "flex": null,
            "flex_flow": null,
            "grid_area": null,
            "grid_auto_columns": null,
            "grid_auto_flow": null,
            "grid_auto_rows": null,
            "grid_column": null,
            "grid_gap": null,
            "grid_row": null,
            "grid_template_areas": null,
            "grid_template_columns": null,
            "grid_template_rows": null,
            "height": null,
            "justify_content": null,
            "justify_items": null,
            "left": null,
            "margin": null,
            "max_height": null,
            "max_width": null,
            "min_height": null,
            "min_width": null,
            "object_fit": null,
            "object_position": null,
            "order": null,
            "overflow": null,
            "overflow_x": null,
            "overflow_y": null,
            "padding": null,
            "right": null,
            "top": null,
            "visibility": null,
            "width": null
          }
        },
        "fc95408dfb294cc6b6c19f75d8fbc38e": {
          "model_module": "@jupyter-widgets/controls",
          "model_module_version": "1.5.0",
          "model_name": "HTMLModel",
          "state": {
            "_dom_classes": [],
            "_model_module": "@jupyter-widgets/controls",
            "_model_module_version": "1.5.0",
            "_model_name": "HTMLModel",
            "_view_count": null,
            "_view_module": "@jupyter-widgets/controls",
            "_view_module_version": "1.5.0",
            "_view_name": "HTMLView",
            "description": "",
            "description_tooltip": null,
            "layout": "IPY_MODEL_4ac5effbf4e14b2f80f6a9c1d597e557",
            "placeholder": "​",
            "style": "IPY_MODEL_569f3acff53e4b1a8aa3e0bdf861d55e",
            "value": "Downloading: 100%"
          }
        },
        "ffb5a0071ed649c3a8cc762905c6343d": {
          "model_module": "@jupyter-widgets/controls",
          "model_module_version": "1.5.0",
          "model_name": "DescriptionStyleModel",
          "state": {
            "_model_module": "@jupyter-widgets/controls",
            "_model_module_version": "1.5.0",
            "_model_name": "DescriptionStyleModel",
            "_view_count": null,
            "_view_module": "@jupyter-widgets/base",
            "_view_module_version": "1.2.0",
            "_view_name": "StyleView",
            "description_width": ""
          }
        }
      }
    }
  },
  "nbformat": 4,
  "nbformat_minor": 0
}